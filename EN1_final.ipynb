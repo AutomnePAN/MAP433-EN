{
 "cells": [
  {
   "cell_type": "markdown",
   "metadata": {},
   "source": [
    "# Exploration Numérique I\n",
    "#### Par Shikang Du et Haolin Pan"
   ]
  },
  {
   "cell_type": "markdown",
   "metadata": {},
   "source": [
    "## Import the packages"
   ]
  },
  {
   "cell_type": "code",
   "execution_count": 1,
   "metadata": {
    "collapsed": true
   },
   "outputs": [],
   "source": [
    "import numpy as np;\n",
    "import pandas as pd;\n",
    "import scipy.stats as sps;\n",
    "import math\n",
    "import matplotlib.pyplot as plt"
   ]
  },
  {
   "cell_type": "code",
   "execution_count": 2,
   "metadata": {
    "collapsed": true
   },
   "outputs": [],
   "source": [
    "%matplotlib inline"
   ]
  },
  {
   "cell_type": "markdown",
   "metadata": {},
   "source": [
    "### Question I:"
   ]
  },
  {
   "cell_type": "code",
   "execution_count": 3,
   "metadata": {
    "collapsed": true
   },
   "outputs": [],
   "source": [
    "markNum_VisitTeam = pd.DataFrame([[0, 692],[1,680],[2, 335], [3, 131], [4,51], [5,11]])\n",
    "markNum_VisitTeam.columns = [\"Nombre de buts marques\", \"Nombre d'observation\"]"
   ]
  },
  {
   "cell_type": "code",
   "execution_count": 4,
   "metadata": {},
   "outputs": [
    {
     "data": {
      "text/html": [
       "<div>\n",
       "<style>\n",
       "    .dataframe thead tr:only-child th {\n",
       "        text-align: right;\n",
       "    }\n",
       "\n",
       "    .dataframe thead th {\n",
       "        text-align: left;\n",
       "    }\n",
       "\n",
       "    .dataframe tbody tr th {\n",
       "        vertical-align: top;\n",
       "    }\n",
       "</style>\n",
       "<table border=\"1\" class=\"dataframe\">\n",
       "  <thead>\n",
       "    <tr style=\"text-align: right;\">\n",
       "      <th></th>\n",
       "      <th>Nombre de buts marques</th>\n",
       "      <th>Nombre d'observation</th>\n",
       "    </tr>\n",
       "  </thead>\n",
       "  <tbody>\n",
       "    <tr>\n",
       "      <th>0</th>\n",
       "      <td>0</td>\n",
       "      <td>692</td>\n",
       "    </tr>\n",
       "    <tr>\n",
       "      <th>1</th>\n",
       "      <td>1</td>\n",
       "      <td>680</td>\n",
       "    </tr>\n",
       "    <tr>\n",
       "      <th>2</th>\n",
       "      <td>2</td>\n",
       "      <td>335</td>\n",
       "    </tr>\n",
       "    <tr>\n",
       "      <th>3</th>\n",
       "      <td>3</td>\n",
       "      <td>131</td>\n",
       "    </tr>\n",
       "    <tr>\n",
       "      <th>4</th>\n",
       "      <td>4</td>\n",
       "      <td>51</td>\n",
       "    </tr>\n",
       "    <tr>\n",
       "      <th>5</th>\n",
       "      <td>5</td>\n",
       "      <td>11</td>\n",
       "    </tr>\n",
       "  </tbody>\n",
       "</table>\n",
       "</div>"
      ],
      "text/plain": [
       "   Nombre de buts marques  Nombre d'observation\n",
       "0                       0                   692\n",
       "1                       1                   680\n",
       "2                       2                   335\n",
       "3                       3                   131\n",
       "4                       4                    51\n",
       "5                       5                    11"
      ]
     },
     "execution_count": 4,
     "metadata": {},
     "output_type": "execute_result"
    }
   ],
   "source": [
    "markNum_VisitTeam"
   ]
  },
  {
   "cell_type": "code",
   "execution_count": 5,
   "metadata": {},
   "outputs": [],
   "source": [
    "markNum_dict = markNum_VisitTeam[\"Nombre d'observation\"]"
   ]
  },
  {
   "cell_type": "markdown",
   "metadata": {},
   "source": [
    "### Question II:"
   ]
  },
  {
   "cell_type": "markdown",
   "metadata": {},
   "source": [
    "D'abord, on doit calculer le logarithme de vraisemblance, On note markNum_dict[k] par $N[k]$\n",
    "\n",
    "$$ L(\\lambda) = \\sum_{k = 0}^{5} \\log(  p_\\lambda(k)^{ N[k]} )$$\n",
    "$$ L(\\lambda) = \\sum_{k = 0}^{5} N[k]\\times (k \\log (\\lambda) - \\lambda) - \\mathrm{log}(k!)$$\n",
    "\n",
    "Donc notre objectif est de maximiser $\\sum_{k = 0}^{5} N[k]\\times (k \\log(\\lambda) - \\lambda)$\n",
    "\n",
    "On fait une dérivation: \n",
    "$$ \\dfrac{\\mathrm{d} L(\\lambda)}{\\mathrm{d}\\lambda} = \\sum_{k = 0}^{5} N[k] \\times( k / \\lambda - 1)$$\n",
    "On cherche $\\hat \\lambda$ tel que $\\dfrac{\\mathrm{d}L(\\hat \\lambda)}{\\mathrm{d}\\lambda} = 0$\n",
    "\n",
    "Quand $\\sum_k N[k] \\neq 0 $(vérifié dans ce cas), on a:\n",
    "$$ \\hat \\lambda = \\dfrac{\\sum_k N[k] \\times k}{ \\sum_k{N[k]} }$$\n"
   ]
  },
  {
   "cell_type": "code",
   "execution_count": 6,
   "metadata": {
    "collapsed": true
   },
   "outputs": [],
   "source": [
    "# Calculs Numerique:\n",
    "def Estim_VS(markNum_dict):\n",
    "    lambda_h = 0;\n",
    "    for i in range(len(markNum_dict.keys())):\n",
    "        lambda_h += markNum_dict[i] * i;\n",
    "    lambda_h /= sum(markNum_dict)\n",
    "    return lambda_h;"
   ]
  },
  {
   "cell_type": "code",
   "execution_count": 7,
   "metadata": {
    "scrolled": true
   },
   "outputs": [
    {
     "name": "stdout",
     "output_type": "stream",
     "text": [
      "1.05368421053\n"
     ]
    }
   ],
   "source": [
    "est_lambda1 = Estim_VS(markNum_dict)\n",
    "print(est_lambda1)"
   ]
  },
  {
   "cell_type": "markdown",
   "metadata": {},
   "source": [
    "### Question III"
   ]
  },
  {
   "cell_type": "markdown",
   "metadata": {},
   "source": [
    "Pour le loi Poisson, le moment d'ordre 2 est $\\lambda^2 + \\lambda$\n",
    "\n",
    "Donc pour l'estimateur d'ordre 2, on cherche en effet $\\lambda$ tel que:\n",
    "\n",
    "$$\\lambda^2 + \\lambda = \\sum_{k=0}^5 \\dfrac{N[k]}{\\sum_{k} N[k]}\\times k^2$$\n",
    "\n",
    "Comme $\\lambda$ est forcément positive, il reste seulement une solution valable.\n",
    "\n",
    "$$ \\tilde{\\lambda} = - \\dfrac{1}{2} + \\sqrt{\\sum_{k=0}^5 \\dfrac{N[k]}{\\sum_{k} N[k]}\\times k^2 + \\dfrac{1}{4}} $$"
   ]
  },
  {
   "cell_type": "code",
   "execution_count": 8,
   "metadata": {},
   "outputs": [],
   "source": [
    "# Calculs Numérique:\n",
    "def Estim_M2(markNum_dict):\n",
    "    lambda_t = 0;\n",
    "    for i in range(len(markNum_dict.keys())):\n",
    "        lambda_t += markNum_dict[i] * i * i;\n",
    "    lambda_t /= sum(markNum_dict.values)\n",
    "    lambda_t += 1/4;\n",
    "    lambda_t = math.sqrt(lambda_t);\n",
    "    lambda_t -= 1/2;\n",
    "    return lambda_t"
   ]
  },
  {
   "cell_type": "code",
   "execution_count": 9,
   "metadata": {},
   "outputs": [
    {
     "name": "stdout",
     "output_type": "stream",
     "text": [
      "1.083633397236275\n"
     ]
    }
   ],
   "source": [
    "est_lambda2 = Estim_M2(markNum_dict)\n",
    "print(est_lambda2)"
   ]
  },
  {
   "cell_type": "markdown",
   "metadata": {},
   "source": [
    "### Question IV"
   ]
  },
  {
   "cell_type": "code",
   "execution_count": 10,
   "metadata": {},
   "outputs": [
    {
     "data": {
      "text/plain": [
       "<matplotlib.text.Text at 0x7fcd1fe102b0>"
      ]
     },
     "execution_count": 10,
     "metadata": {},
     "output_type": "execute_result"
    },
    {
     "data": {
      "image/png": "[encoded data removed]",
      "text/plain": [
       "<matplotlib.figure.Figure at 0x7fcd1fe64fd0>"
      ]
     },
     "metadata": {},
     "output_type": "display_data"
    }
   ],
   "source": [
    "count = markNum_dict\n",
    "keys = range(6);\n",
    "total = sum(count)\n",
    "obser = []\n",
    "for i in count:\n",
    "    obser.append(i / total)\n",
    "plt.bar(keys, obser, edgecolor = \"black\", color = \"grey\", width = 0.5, alpha = 0.2)\n",
    "\n",
    "plt.title('Observation')\n",
    "plt.xlabel('Nombre de buts marques')\n",
    "plt.ylabel('Proportion d\\'observation')"
   ]
  },
  {
   "cell_type": "code",
   "execution_count": 11,
   "metadata": {
    "collapsed": true
   },
   "outputs": [],
   "source": [
    "#La loi Poisson\n",
    "poisson = sps.poisson(Estim_VS(markNum_dict))"
   ]
  },
  {
   "cell_type": "code",
   "execution_count": 12,
   "metadata": {},
   "outputs": [
    {
     "data": {
      "text/plain": [
       "<matplotlib.legend.Legend at 0x7fcd1fe64dd8>"
      ]
     },
     "execution_count": 12,
     "metadata": {},
     "output_type": "execute_result"
    },
    {
     "data": {
      "image/png": "[encoded data removed]",
      "text/plain": [
       "<matplotlib.figure.Figure at 0x7fcd1fe64e10>"
      ]
     },
     "metadata": {},
     "output_type": "display_data"
    }
   ],
   "source": [
    "keys = markNum_dict.keys()\n",
    "count_V = poisson.pmf(keys)\n",
    "plt.bar(keys, count_V, edgecolor = \"black\", color = \"red\", width = 0.5, alpha = 0.2)\n",
    "plt.bar(keys, obser, edgecolor = \"black\", color = \"grey\", width = 0.5, alpha = 0.2)\n",
    "plt.title('predictions de $p_{\\hat\\lambda}(k)$')\n",
    "plt.xlabel('Nombre de buts marques')\n",
    "plt.ylabel('$p_{\\hat\\lambda}(k)$')\n",
    "plt.legend(('valeur de prediction', 'valeur d\\'observation'))\n"
   ]
  },
  {
   "cell_type": "code",
   "execution_count": 13,
   "metadata": {
    "collapsed": true
   },
   "outputs": [],
   "source": [
    "poisson = sps.poisson(Estim_M2(markNum_dict))"
   ]
  },
  {
   "cell_type": "code",
   "execution_count": 14,
   "metadata": {},
   "outputs": [
    {
     "data": {
      "text/plain": [
       "<matplotlib.legend.Legend at 0x7fcd17d84860>"
      ]
     },
     "execution_count": 14,
     "metadata": {},
     "output_type": "execute_result"
    },
    {
     "data": {
      "image/png": "[encoded data removed]",
      "text/plain": [
       "<matplotlib.figure.Figure at 0x7fcd17d84828>"
      ]
     },
     "metadata": {},
     "output_type": "display_data"
    }
   ],
   "source": [
    "keys = range(6)\n",
    "count_M = poisson.pmf(keys)\n",
    "plt.bar(keys, count_M, edgecolor = \"black\", color = \"blue\", width = 0.5, alpha = 0.2)\n",
    "plt.bar(keys, obser, edgecolor = \"black\", color = \"grey\", width = 0.5, alpha = 0.2)\n",
    "plt.title('predictions de $p_{\\widetilde\\lambda}(k)$')\n",
    "plt.xlabel('Nombre de buts marques')\n",
    "plt.ylabel('$p_{\\widetilde\\lambda}(k)$')\n",
    "plt.legend(('valeur de prediction', 'valeur d\\'observation'))\n"
   ]
  },
  {
   "cell_type": "markdown",
   "metadata": {},
   "source": [
    "#### comparation"
   ]
  },
  {
   "cell_type": "code",
   "execution_count": 22,
   "metadata": {
    "scrolled": true
   },
   "outputs": [
    {
     "data": {
      "text/plain": [
       "[<matplotlib.lines.Line2D at 0x7fcd17bb5b00>]"
      ]
     },
     "execution_count": 22,
     "metadata": {},
     "output_type": "execute_result"
    },
    {
     "data": {
      "image/png": "[encoded data removed]",
      "text/plain": [
       "<matplotlib.figure.Figure at 0x7fcd17cd7dd8>"
      ]
     },
     "metadata": {},
     "output_type": "display_data"
    }
   ],
   "source": [
    "plt.bar(keys, count_M - obser, edgecolor = \"black\", color = \"blue\", width = 0.5, alpha = 0.2)\n",
    "plt.bar(keys, count_V - obser, edgecolor = \"black\", color = \"red\", width = 0.5, alpha = 0.2)\n",
    "\n",
    "plt.title('Comparation de prediction')\n",
    "plt.ylabel('valeur de prediction- valeur d\\'observation')\n",
    "plt.xlabel('Nombre de buts marques')\n",
    "plt.legend(('Erreur de prediction de $p_{\\widetilde\\lambda}(k)$', 'Erreur de prediction de $p_{\\hat\\lambda}(k)$'))\n",
    "plt.plot([-0.4, 5.4], [0, 0], \"k--\", alpha = 0.4)"
   ]
  },
  {
   "cell_type": "markdown",
   "metadata": {},
   "source": [
    "#### Compare the precision of the 2 models.\n",
    "Maintenant, on veut comparer la précision de deux models par la fonction objectif (cost function);\n",
    "\n",
    "Par la définition, la fonction objectif est la racine de la somme de carré erreur."
   ]
  },
  {
   "cell_type": "code",
   "execution_count": 16,
   "metadata": {
    "collapsed": true
   },
   "outputs": [],
   "source": [
    "def CostFunction(estim, markNum_dict):\n",
    "    poisson = sps.poisson(estim)\n",
    "    keys = list(markNum_dict.keys())\n",
    "    proportion = poisson.pmf(keys)\n",
    "    total = sum(markNum_dict)\n",
    "    estim_count = [];\n",
    "    for i in keys:\n",
    "        estim_count.append(total * proportion[i]);\n",
    "#     print(estim_count);\n",
    "    error_total = 0;\n",
    "    for i in keys:\n",
    "        error_total += (estim_count[i] - markNum_dict[i]) * (estim_count[i] - markNum_dict[i]);\n",
    "    return math.sqrt(error_total);"
   ]
  },
  {
   "cell_type": "code",
   "execution_count": 17,
   "metadata": {},
   "outputs": [
    {
     "data": {
      "text/plain": [
       "50.75260566540501"
      ]
     },
     "execution_count": 17,
     "metadata": {},
     "output_type": "execute_result"
    }
   ],
   "source": [
    "CostFunction(Estim_VS(markNum_dict), markNum_dict)"
   ]
  },
  {
   "cell_type": "code",
   "execution_count": 18,
   "metadata": {},
   "outputs": [
    {
     "data": {
      "text/plain": [
       "68.75625692152445"
      ]
     },
     "execution_count": 18,
     "metadata": {},
     "output_type": "execute_result"
    }
   ],
   "source": [
    "CostFunction(Estim_M2(markNum_dict), markNum_dict)"
   ]
  },
  {
   "cell_type": "markdown",
   "metadata": {},
   "source": [
    "**Par conséquence, l'estimateur de maximum de vraisemblace  a une meilleure précision.**"
   ]
  },
  {
   "cell_type": "markdown",
   "metadata": {},
   "source": [
    "### Question V"
   ]
  },
  {
   "cell_type": "markdown",
   "metadata": {},
   "source": [
    "On doit calculer le logarithme de vraisemblance. On note:\n",
    "$$\n",
    "L(p) = \\Pi_{i=0}^{5} \\left( {n \\choose k} p^i (1-p)^{n-i} \\right)^{N[i]}\n",
    "$$\n",
    "Donc \n",
    "$$\n",
    "\\log L(p) = \\sum_{i=0}^{5} N[i]\\left(\\log {n \\choose k} + i\\log p+ (n-i) \\log(1-p) \\right)\n",
    "$$\n",
    "\n",
    "et on a : \n",
    "$$\n",
    "\\frac{\\mathrm{d}\\log L(p)}{\\mathrm{d}p} = \\sum_{i=0}^{5} N[i] \\left( \\frac{i}{p} - \\frac{n-i}{1-p}\\right)\n",
    "$$\n",
    "\n",
    "Donc on va trouver $\\hat p$, tel que $$\\frac{\\mathrm{d}\\log L(p)}{\\mathrm{d}p}(\\hat p) = 0$$\n",
    "Donc on a $$\\hat p = \\frac{\\sum i N[i]}{n\\sum N[i]}$$"
   ]
  },
  {
   "cell_type": "code",
   "execution_count": 19,
   "metadata": {
    "collapsed": true
   },
   "outputs": [],
   "source": [
    "# Calculs Numérique:\n",
    "def Estim_Binomale(markNum_dict, n=30):\n",
    "    iNi = 0\n",
    "    nNi = 0\n",
    "    for i in range(len(markNum_dict.keys())):\n",
    "        iNi += i*markNum_dict[i]\n",
    "    nNi = sum(markNum_dict) * n\n",
    "    return iNi / nNi"
   ]
  },
  {
   "cell_type": "code",
   "execution_count": 20,
   "metadata": {},
   "outputs": [
    {
     "name": "stdout",
     "output_type": "stream",
     "text": [
      "0.0351228070175\n"
     ]
    }
   ],
   "source": [
    "est_p = Estim_Binomale(markNum_dict)\n",
    "print(est_p)"
   ]
  },
  {
   "cell_type": "markdown",
   "metadata": {},
   "source": [
    "### Question VI"
   ]
  },
  {
   "cell_type": "code",
   "execution_count": 21,
   "metadata": {},
   "outputs": [
    {
     "data": {
      "text/plain": [
       "1.0"
      ]
     },
     "execution_count": 21,
     "metadata": {},
     "output_type": "execute_result"
    }
   ],
   "source": [
    "# simulation\n",
    "n = 30\n",
    "est_lambda1 / n / est_p"
   ]
  },
  {
   "cell_type": "markdown",
   "metadata": {},
   "source": [
    "Donc on a trouvé la relation :\n",
    "$$\\hat p \\cdot n = \\hat \\lambda$$"
   ]
  },
  {
   "cell_type": "markdown",
   "metadata": {},
   "source": [
    "__Explication__"
   ]
  },
  {
   "cell_type": "markdown",
   "metadata": {},
   "source": [
    "Quand $n$ est ainsi grand et $p$ est ainsi petit, la loi de Binominale converge vers la loi de Poission. \n",
    "$$ \\lim_{n \\rightarrow \\infty} {n \\choose k} p^{k} (1-p)^{n-k} \\\\\n",
    " = \\lim_{n \\rightarrow \\infty}\\frac{n(n-1)...(n-k+1)}{k!}\\left(\\frac{\\lambda}{n}\\right)^{k} \\left(1-\\frac{\\lambda}{n}\\right\n",
    " )^{1-k} \\\\\n",
    " = \\lim_{n \\rightarrow \\infty}\\frac{n^k + O(n^{k-1})}{k!}\\left(\\frac{\\lambda}{n}\\right)^{k} \\left(1-\\frac{\\lambda}{n}\\right\n",
    " )^{1-k}\\\\\n",
    " = \\lim_{n \\rightarrow \\infty}\\frac{\\lambda^k}{k!}\\left(1-\\frac{\\lambda}{n}\\right\n",
    " )^{1-k}\n",
    " $$"
   ]
  },
  {
   "cell_type": "markdown",
   "metadata": {},
   "source": [
    "Avec\n",
    "$$\n",
    "\\lim_{n\\to\\infty} \\left(1-\\frac{\\lambda}{n}\\right)^{n} = e^{-\\lambda}\n",
    "$$\n",
    "et \n",
    "$$\n",
    "\\lim_{n\\to\\infty} \\left(1- \\frac{\\lambda}{n}\\right)^{-k}=1\n",
    "$$\n",
    "Donc on a :\n",
    "$$\n",
    "{n \\choose k}p^k (1-p)^{n-k} \\simeq \\frac{\\lambda^k e^{-\\lambda}}{k!}\n",
    "$$"
   ]
  },
  {
   "cell_type": "markdown",
   "metadata": {},
   "source": [
    "$n = 30 \\leq 10$ est suffisant grand, et $p=0.04 < 0.1$ est suffisant petit."
   ]
  },
  {
   "cell_type": "code",
   "execution_count": null,
   "metadata": {
    "collapsed": true
   },
   "outputs": [],
   "source": []
  }
 ],
 "metadata": {
  "kernelspec": {
   "display_name": "Python 3",
   "language": "python",
   "name": "python3"
  },
  "language_info": {
   "codemirror_mode": {
    "name": "ipython",
    "version": 3
   },
   "file_extension": ".py",
   "mimetype": "text/x-python",
   "name": "python",
   "nbconvert_exporter": "python",
   "pygments_lexer": "ipython3",
   "version": "3.6.8"
  }
 },
 "nbformat": 4,
 "nbformat_minor": 2
}
